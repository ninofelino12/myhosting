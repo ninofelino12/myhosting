{
 "cells": [
  {
   "cell_type": "code",
   "execution_count": null,
   "metadata": {},
   "outputs": [],
   "source": [
    "from IPython.display import HTML\n",
    "htm='<h1 style=\"background-color:red\">hello word</h1>'\n",
    "display(HTML(htm))\n",
    "print('<h1 style=\"background-color:red\">hello word</h1>')"
   ]
  },
  {
   "cell_type": "code",
   "execution_count": 1,
   "metadata": {},
   "outputs": [
    {
     "name": "stdout",
     "output_type": "stream",
     "text": [
      "Requirement already satisfied: odoorpc in ./venv/lib/python3.8/site-packages (0.10.1)\n",
      "['DEMO', 'SPRINGBED', 'SPRINGBED-CYBROSYS', 'SPRINGBED-FEB', 'SPRINGBED-OdooMates']\n"
     ]
    }
   ],
   "source": [
    "!pip install odoorpc\n",
    "import  odoorpc\n",
    "odoo  =  odoorpc.ODOO ('203.194.112.105',  port = 80 )\n",
    "print(odoo.db.list())\n",
    "odoo.login('SPRINGBED-OdooMates', 'felino', 'felino')"
   ]
  },
  {
   "cell_type": "code",
   "execution_count": 8,
   "metadata": {},
   "outputs": [
    {
     "ename": "TypeError",
     "evalue": "super() takes no keyword arguments",
     "output_type": "error",
     "traceback": [
      "\u001b[0;31m---------------------------------------------------------------------------\u001b[0m",
      "\u001b[0;31mTypeError\u001b[0m                                 Traceback (most recent call last)",
      "Cell \u001b[0;32mIn[8], line 30\u001b[0m\n\u001b[1;32m     27\u001b[0m     \u001b[38;5;28;01mdef\u001b[39;00m \u001b[38;5;21mDatarecord\u001b[39m(\u001b[38;5;28mself\u001b[39m):\n\u001b[1;32m     28\u001b[0m         \u001b[38;5;28;01mreturn\u001b[39;00m \u001b[38;5;28mself\u001b[39m\u001b[38;5;241m.\u001b[39mlistrecord(\u001b[38;5;28mself\u001b[39m\u001b[38;5;241m.\u001b[39mmodel,\u001b[38;5;28mself\u001b[39m\u001b[38;5;241m.\u001b[39mrecord(\u001b[38;5;28mself\u001b[39m\u001b[38;5;241m.\u001b[39mmodel,[]),[\u001b[38;5;28mself\u001b[39m\u001b[38;5;241m.\u001b[39mfield]) \n\u001b[0;32m---> 30\u001b[0m datas \u001b[38;5;241m=\u001b[39m \u001b[43mFelino\u001b[49m\u001b[43m(\u001b[49m\u001b[43m)\u001b[49m\n\u001b[1;32m     31\u001b[0m \u001b[38;5;28mprint\u001b[39m(datas\u001b[38;5;241m.\u001b[39mDatarecord())\n",
      "Cell \u001b[0;32mIn[8], line 7\u001b[0m, in \u001b[0;36mFelino.__init__\u001b[0;34m(self)\u001b[0m\n\u001b[1;32m      5\u001b[0m \u001b[38;5;28;01mdef\u001b[39;00m \u001b[38;5;21m__init__\u001b[39m(\u001b[38;5;28mself\u001b[39m):\n\u001b[1;32m      6\u001b[0m     \u001b[38;5;28msuper\u001b[39m()\u001b[38;5;241m.\u001b[39m\u001b[38;5;21m__init__\u001b[39m(\u001b[38;5;124m'\u001b[39m\u001b[38;5;124m203.194.112.105\u001b[39m\u001b[38;5;124m'\u001b[39m,  port \u001b[38;5;241m=\u001b[39m \u001b[38;5;241m80\u001b[39m )\n\u001b[0;32m----> 7\u001b[0m     \u001b[38;5;28mself\u001b[39m\u001b[38;5;241m.\u001b[39modoo  \u001b[38;5;241m=\u001b[39m  \u001b[38;5;28;43msuper\u001b[39;49m\u001b[43m \u001b[49m\u001b[43m(\u001b[49m\u001b[38;5;124;43m'\u001b[39;49m\u001b[38;5;124;43m203.194.112.105\u001b[39;49m\u001b[38;5;124;43m'\u001b[39;49m\u001b[43m,\u001b[49m\u001b[43m  \u001b[49m\u001b[43mport\u001b[49m\u001b[43m \u001b[49m\u001b[38;5;241;43m=\u001b[39;49m\u001b[43m \u001b[49m\u001b[38;5;241;43m80\u001b[39;49m\u001b[43m \u001b[49m\u001b[43m)\u001b[49m\n\u001b[1;32m      8\u001b[0m     \u001b[38;5;28mself\u001b[39m\u001b[38;5;241m.\u001b[39mmodel \u001b[38;5;241m=\u001b[39m \u001b[38;5;124m'\u001b[39m\u001b[38;5;124mres.partner\u001b[39m\u001b[38;5;124m'\u001b[39m\n\u001b[1;32m      9\u001b[0m     \u001b[38;5;28mself\u001b[39m\u001b[38;5;241m.\u001b[39mdatabase \u001b[38;5;241m=\u001b[39m\u001b[38;5;124m'\u001b[39m\u001b[38;5;124mSPRINGBED-OdooMates\u001b[39m\u001b[38;5;124m'\u001b[39m\n",
      "\u001b[0;31mTypeError\u001b[0m: super() takes no keyword arguments"
     ]
    }
   ],
   "source": [
    "from odoorpc import ODOO\n",
    "\n",
    "class Felino(ODOO):\n",
    "\n",
    "    def __init__(self):\n",
    "        super().__init__('203.194.112.105',  port = 80 )\n",
    "        self.odoo  =  super ('203.194.112.105',  port = 80 )\n",
    "        self.model = 'res.partner'\n",
    "        self.database ='SPRINGBED-OdooMates'\n",
    "        self.user='felino'\n",
    "        self.password='felino'\n",
    "        self.field=['id','name']\n",
    "        self.listrecord=[]\n",
    "        _name = 'my.model'\n",
    "        self.odoo  =  odoorpc.ODOO ('203.194.112.105',  port = 80 )\n",
    "        print(self.odoo.db.list())\n",
    "        self.odoo.login('SPRINGBED-OdooMates', 'felino', 'felino')\n",
    "\n",
    "    def record(self):\n",
    "        self.listrecord=odoo.env[self.model].search(self.search);\n",
    "        return self.listrecord\n",
    "\n",
    "    def listrecord(self):\n",
    "        result=odoo.execute(self.model, 'read',self.listrecord,self.field) \n",
    "        return result\n",
    "\n",
    "    def Datarecord(self):\n",
    "        return self.listrecord(self.model,self.record(self.model,[]),[self.field]) \n",
    "    \n",
    "datas = Felino()\n",
    "print(datas.Datarecord())"
   ]
  },
  {
   "cell_type": "code",
   "execution_count": 12,
   "metadata": {},
   "outputs": [
    {
     "ename": "ImportError",
     "evalue": "cannot import name 'Client' from 'odoorpc' (/home/felino/Documents/docker/myhosting/venv/lib/python3.8/site-packages/odoorpc/__init__.py)",
     "output_type": "error",
     "traceback": [
      "\u001b[0;31m---------------------------------------------------------------------------\u001b[0m",
      "\u001b[0;31mImportError\u001b[0m                               Traceback (most recent call last)",
      "Cell \u001b[0;32mIn[12], line 4\u001b[0m\n\u001b[1;32m      2\u001b[0m \u001b[38;5;28;01mfrom\u001b[39;00m \u001b[38;5;21;01mmyclass\u001b[39;00m \u001b[38;5;28;01mimport\u001b[39;00m Felino\n\u001b[1;32m      3\u001b[0m \u001b[38;5;28;01mimport\u001b[39;00m \u001b[38;5;21;01mtabulate\u001b[39;00m\n\u001b[0;32m----> 4\u001b[0m \u001b[38;5;28;01mfrom\u001b[39;00m \u001b[38;5;21;01modoorpc\u001b[39;00m \u001b[38;5;28;01mimport\u001b[39;00m Client\n\u001b[1;32m      5\u001b[0m datas \u001b[38;5;241m=\u001b[39m Felino()\n\u001b[1;32m      6\u001b[0m \u001b[38;5;28mprint\u001b[39m(\u001b[38;5;124m'\u001b[39m\u001b[38;5;124m------------ My class\u001b[39m\u001b[38;5;124m'\u001b[39m)\n",
      "\u001b[0;31mImportError\u001b[0m: cannot import name 'Client' from 'odoorpc' (/home/felino/Documents/docker/myhosting/venv/lib/python3.8/site-packages/odoorpc/__init__.py)"
     ]
    }
   ],
   "source": [
    "#!pip install tabulate\n",
    "from myclass import Felino\n",
    "import tabulate\n",
    "\n",
    "datas = Felino()\n",
    "print('------------ My class')\n",
    "# print(datas.Datarecord())\n",
    "# print(datas.Datarecord(model=\"product.product\"))\n",
    "# print(datas.Datarecord(model=\"product.product\",field=['id','name','desc']))\n",
    "# print(datas.getFields())\n",
    "data=datas.getFields()\n",
    "table = tabulate.tabulate(data, headers='keys', tablefmt='fancy_grid')\n",
    "print(table)"
   ]
  },
  {
   "cell_type": "markdown",
   "metadata": {},
   "source": [
    "<h1>Odoo Class</h1>\n",
    "<li>\n",
    "def record(model,search):\n",
    "</li>\n",
    "<li>\n",
    "def listrecord(model,listrecord,field):\n",
    "</li>"
   ]
  },
  {
   "cell_type": "code",
   "execution_count": 2,
   "metadata": {},
   "outputs": [
    {
     "name": "stdout",
     "output_type": "stream",
     "text": [
      "['DEMO', 'SPRINGBED', 'SPRINGBED-CYBROSYS', 'SPRINGBED-FEB', 'SPRINGBED-OdooMates']\n",
      "       id          name website\n",
      "0     757  77 FURNITURE   False\n",
      "1     998         JERRY   False\n",
      "2     876        81 LIA   False\n",
      "3     750         ABAH    False\n",
      "4     877    ABI MEUBEL   False\n",
      "..    ...           ...     ...\n",
      "550   735  YOSUA MEBEL    False\n",
      "551   995      BPK BUDI   False\n",
      "552   320         Yandi   False\n",
      "553    17  Yudhi Irawan   False\n",
      "554  1109        felino   False\n",
      "\n",
      "[555 rows x 3 columns]\n"
     ]
    }
   ],
   "source": [
    "#!pip install pandas\n",
    "from  felino import record,listrecord\n",
    "import pandas as pd\n",
    "model='res.partner'\n",
    "data=listrecord(model,record(model,[]),['id','name','website'])\n",
    "hasil=pd.DataFrame.from_dict(data)\n",
    "print(hasil)\n"
   ]
  }
 ],
 "metadata": {
  "kernelspec": {
   "display_name": "venv",
   "language": "python",
   "name": "python3"
  },
  "language_info": {
   "codemirror_mode": {
    "name": "ipython",
    "version": 3
   },
   "file_extension": ".py",
   "mimetype": "text/x-python",
   "name": "python",
   "nbconvert_exporter": "python",
   "pygments_lexer": "ipython3",
   "version": "3.8.10"
  }
 },
 "nbformat": 4,
 "nbformat_minor": 2
}
